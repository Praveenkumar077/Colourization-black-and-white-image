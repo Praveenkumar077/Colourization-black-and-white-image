{
 "cells": [
  {
   "cell_type": "code",
   "execution_count": 27,
   "id": "4e76da07",
   "metadata": {},
   "outputs": [],
   "source": [
    "import numpy as np\n",
    "import cv2 as cv\n",
    "import os.path\n",
    "import os\n",
    "from tqdm import tqdm\n",
    "import tensorflow as tf\n",
    "from tensorflow import keras"
   ]
  },
  {
   "cell_type": "code",
   "execution_count": 31,
   "id": "035c289c",
   "metadata": {},
   "outputs": [],
   "source": [
    "numpy_file = np.load('./model/pts_in_hull.npy')\n",
    "Caffe_net = cv.dnn.readNetFromCaffe(\"./model/colorization_deploy_v2.prototxt\", \"./model/colorization_release_v2.caffemodel\")"
   ]
  },
  {
   "cell_type": "code",
   "execution_count": 32,
   "id": "fa6a8b34",
   "metadata": {},
   "outputs": [],
   "source": [
    "numpy_file = numpy_file.transpose().reshape(2, 313, 1, 1)\n",
    "Caffe_net.getLayer(Caffe_net.getLayerId('class8_ab')).blobs = [numpy_file.astype(np.float32)]\n",
    "Caffe_net.getLayer(Caffe_net.getLayerId('conv8_313_rh')).blobs = [np.full([1, 313], 2.606, np.float32)]\n"
   ]
  },
  {
   "cell_type": "code",
   "execution_count": 39,
   "id": "25e32623",
   "metadata": {
    "scrolled": true
   },
   "outputs": [
    {
     "name": "stderr",
     "output_type": "stream",
     "text": [
      "100%|████████████████████████████████████████████████████████████████████████████████| 424/424 [07:18<00:00,  1.03s/it]\n",
      "100%|████████████████████████████████████████████████████████████████████████████████| 136/136 [02:15<00:00,  1.00it/s]\n",
      "100%|████████████████████████████████████████████████████████████████████████████████| 454/454 [07:21<00:00,  1.03it/s]\n",
      "0it [00:00, ?it/s]\n"
     ]
    }
   ],
   "source": [
    "\n",
    "for a, b, files in os.walk('./arv',topdown=False):\n",
    "    for file in tqdm(files):\n",
    "        frame = cv.imread(os.path.join(a, file))\n",
    "        input_width = 224\n",
    "        input_height = 224\n",
    "\n",
    "        rgb_img = (frame[:,:,[2, 1, 0]] * 1.0 / 255).astype(np.float32)\n",
    "        lab_img = cv.cvtColor(rgb_img, cv.COLOR_RGB2Lab)\n",
    "        l_channel = lab_img[:,:,0] \n",
    "\n",
    "        l_channel_resize = cv.resize(l_channel, (input_width, input_height)) \n",
    "        l_channel_resize -= 50\n",
    "        Caffe_net.setInput(cv.dnn.blobFromImage(l_channel_resize))\n",
    "        ab_channel = Caffe_net.forward()[0,:,:,:].transpose((1,2,0)) \n",
    "\n",
    "        (original_height,original_width) = rgb_img.shape[:2] \n",
    "        ab_channel_us = cv.resize(ab_channel, (original_width, original_height))\n",
    "        lab_output = np.concatenate((l_channel[:,:,np.newaxis],ab_channel_us),axis=2) \n",
    "        bgr_output = np.clip(cv.cvtColor(lab_output, cv.COLOR_Lab2BGR), 0, 1)\n",
    "        cv.imwrite(f'C:/Users/91930/arv2/{file}', (bgr_output*255).astype(np.uint8))\n",
    "        \n",
    "    "
   ]
  },
  {
   "cell_type": "code",
   "execution_count": null,
   "id": "2ec6a3ef",
   "metadata": {},
   "outputs": [],
   "source": []
  }
 ],
 "metadata": {
  "kernelspec": {
   "display_name": "Python 3",
   "language": "python",
   "name": "python3"
  },
  "language_info": {
   "codemirror_mode": {
    "name": "ipython",
    "version": 3
   },
   "file_extension": ".py",
   "mimetype": "text/x-python",
   "name": "python",
   "nbconvert_exporter": "python",
   "pygments_lexer": "ipython3",
   "version": "3.8.8"
  }
 },
 "nbformat": 4,
 "nbformat_minor": 5
}
